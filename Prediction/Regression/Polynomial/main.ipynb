{
 "cells": [
  {
   "cell_type": "code",
   "execution_count": null,
   "id": "initial_id",
   "metadata": {
    "collapsed": true
   },
   "outputs": [],
   "source": [
    "#1.kutuphaneler\n",
    "import numpy as np\n",
    "import matplotlib.pyplot as plt\n",
    "import pandas as pd\n",
    "\n",
    "# veri yukleme\n",
    "veriler = pd.read_csv('../../../data/maaslar.csv')\n",
    "\n",
    "x = veriler.iloc[:,1:2]\n",
    "y = veriler.iloc[:,2:]\n",
    "X = x.values\n",
    "Y = y.values\n",
    "\n",
    "#linear regression\n",
    "from sklearn.linear_model import LinearRegression\n",
    "lin_reg = LinearRegression()\n",
    "lin_reg.fit(X,Y)\n",
    "\n",
    "plt.scatter(X,Y,color='red')\n",
    "plt.plot(x,lin_reg.predict(X), color = 'blue')\n",
    "plt.show()\n",
    "\n",
    "\n",
    "#polynomial regression\n",
    "from sklearn.preprocessing import PolynomialFeatures\n",
    "poly_reg = PolynomialFeatures(degree = 2)\n",
    "x_poly = poly_reg.fit_transform(X)\n",
    "print(x_poly)\n",
    "lin_reg2 = LinearRegression()\n",
    "lin_reg2.fit(x_poly,y)\n",
    "plt.scatter(X,Y,color = 'red')\n",
    "plt.plot(X,lin_reg2.predict(poly_reg.fit_transform(X)), color = 'blue')\n",
    "plt.show()\n",
    "\n",
    "\n",
    "\n",
    "from sklearn.preprocessing import PolynomialFeatures\n",
    "poly_reg = PolynomialFeatures(degree = 5)\n",
    "x_poly = poly_reg.fit_transform(X)\n",
    "print(x_poly)\n",
    "lin_reg2 = LinearRegression()\n",
    "lin_reg2.fit(x_poly,y)\n",
    "plt.scatter(X,Y,color = 'red')\n",
    "plt.plot(X,lin_reg2.predict(poly_reg.fit_transform(X)), color = 'blue')\n",
    "plt.show()\n",
    "\n",
    "#tahminler\n",
    "\n",
    "print(lin_reg.predict([[11]]))\n",
    "print(lin_reg.predict([[6.6]]))\n",
    "\n",
    "print(lin_reg2.predict(poly_reg.fit_transform([[6.6]])))\n",
    "print(lin_reg2.predict(poly_reg.fit_transform([[11]])))\n"
   ]
  }
 ],
 "metadata": {
  "kernelspec": {
   "display_name": "Python 3",
   "language": "python",
   "name": "python3"
  },
  "language_info": {
   "codemirror_mode": {
    "name": "ipython",
    "version": 2
   },
   "file_extension": ".py",
   "mimetype": "text/x-python",
   "name": "python",
   "nbconvert_exporter": "python",
   "pygments_lexer": "ipython2",
   "version": "2.7.6"
  }
 },
 "nbformat": 4,
 "nbformat_minor": 5
}
