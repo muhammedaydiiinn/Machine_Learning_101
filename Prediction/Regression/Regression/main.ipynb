{
 "cells": [
  {
   "cell_type": "code",
   "execution_count": null,
   "id": "initial_id",
   "metadata": {
    "collapsed": true
   },
   "outputs": [],
   "source": [
    "import pandas as pd\n",
    "import numpy as np\n",
    "import matplotlib.pyplot as plt\n",
    "\n",
    "satis_verisi = pd.read_excel(\"satislar.xlsx\")\n",
    "\n",
    "satis_verisi\n",
    "\n",
    "aylar = satis_verisi[['Aylar']]\n",
    "aylar\n",
    "\n",
    "satislar = satis_verisi[['Satislar']]\n",
    "satislar\n",
    "\n",
    "\n",
    "from sklearn.model_selection import train_test_split\n",
    "\n",
    "x_train ,x_test,y_train,y_test = train_test_split(aylar,satislar,test_size=0.33,random_state=0)\n",
    "\n",
    "\"\"\"\n",
    "# Verilerin Standartlaştırılması\n",
    "from sklearn.preprocessing import StandardScaler\n",
    "sc = StandardScaler()\n",
    "\n",
    "X_train = sc.fit_transform(x_train)\n",
    "X_test = sc.fit_transform(x_test)\n",
    "Y_train = sc.fit_transform(y_train)\n",
    "Y_test = sc.fit_transform(y_test)\n",
    "\"\"\"\n",
    "\n",
    "# Model İnşası Linear Regression\n",
    "from sklearn.linear_model import LinearRegression\n",
    "lr = LinearRegression()\n",
    "lr.fit(x_train,y_train)\n",
    "\n",
    "tahmin = lr.predict(x_test)\n",
    "\n",
    "x_train = x_train.sort_index()\n",
    "y_train = y_train.sort_index()\n",
    "\n",
    "plt.plot(x_train,y_train)\n",
    "\n",
    "plt.plot(x_test,tahmin)\n",
    "plt.title(\"Aylara göre satış\")\n",
    "plt.xlabel(\"Aylar\")\n",
    "plt.ylabel(\"Satışlar\")\n"
   ]
  }
 ],
 "metadata": {
  "kernelspec": {
   "display_name": "Python 3",
   "language": "python",
   "name": "python3"
  },
  "language_info": {
   "codemirror_mode": {
    "name": "ipython",
    "version": 2
   },
   "file_extension": ".py",
   "mimetype": "text/x-python",
   "name": "python",
   "nbconvert_exporter": "python",
   "pygments_lexer": "ipython2",
   "version": "2.7.6"
  }
 },
 "nbformat": 4,
 "nbformat_minor": 5
}
