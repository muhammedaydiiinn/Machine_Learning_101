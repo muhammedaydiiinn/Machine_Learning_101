{
 "cells": [
  {
   "cell_type": "code",
   "id": "initial_id",
   "metadata": {
    "collapsed": true,
    "ExecuteTime": {
     "end_time": "2024-09-20T13:47:11.065458Z",
     "start_time": "2024-09-20T13:47:11.045360Z"
    }
   },
   "source": [
    "# Kütüphanelerin yüklenmesi\n",
    "import numpy as np\n",
    "import matplotlib.pyplot as plt\n",
    "import pandas as pd\n",
    "from sklearn.metrics import r2_score\n",
    "import statsmodels.api as sm\n",
    "from sklearn.linear_model import LinearRegression\n",
    "from sklearn.preprocessing import PolynomialFeatures, StandardScaler\n",
    "from sklearn.svm import SVR\n",
    "from sklearn.tree import DecisionTreeRegressor\n",
    "from sklearn.ensemble import RandomForestRegressor"
   ],
   "outputs": [],
   "execution_count": 28
  },
  {
   "metadata": {
    "ExecuteTime": {
     "end_time": "2024-09-20T13:47:11.172362Z",
     "start_time": "2024-09-20T13:47:11.077433Z"
    }
   },
   "cell_type": "code",
   "source": [
    "def load_data(file_path):\n",
    "    data = pd.read_csv(file_path)\n",
    "    x = data.iloc[:,2:3]\n",
    "    y = data.iloc[:,5:]\n",
    "    X = x.values\n",
    "    Y = y.values\n",
    "    return X, Y\n",
    "X, Y = load_data('../data/maaslar_yeni.csv')"
   ],
   "id": "bcc20e1560cf162f",
   "outputs": [],
   "execution_count": 29
  },
  {
   "metadata": {
    "ExecuteTime": {
     "end_time": "2024-09-20T13:47:11.220467Z",
     "start_time": "2024-09-20T13:47:11.191888Z"
    }
   },
   "cell_type": "code",
   "source": [
    "# Linear Regression\n",
    "def linear_regression(X, Y):\n",
    "    lin_reg = LinearRegression()\n",
    "    lin_reg.fit(X, Y)\n",
    "    print('Linear R2 değeri:', r2_score(Y, lin_reg.predict(X)))\n",
    "    return lin_reg\n",
    "linear_model = linear_regression(X, Y)"
   ],
   "id": "45e3819a8352f764",
   "outputs": [
    {
     "name": "stdout",
     "output_type": "stream",
     "text": [
      "Linear R2 değeri: 0.5285811733746243\n"
     ]
    }
   ],
   "execution_count": 30
  },
  {
   "metadata": {
    "ExecuteTime": {
     "end_time": "2024-09-20T13:47:11.284184Z",
     "start_time": "2024-09-20T13:47:11.259650Z"
    }
   },
   "cell_type": "code",
   "source": [
    "model1 = sm.OLS(linear_model.predict(X), X)\n",
    "print(model1.fit().summary())"
   ],
   "id": "4e441fcd93946394",
   "outputs": [
    {
     "name": "stdout",
     "output_type": "stream",
     "text": [
      "                                 OLS Regression Results                                \n",
      "=======================================================================================\n",
      "Dep. Variable:                      y   R-squared (uncentered):                   0.942\n",
      "Model:                            OLS   Adj. R-squared (uncentered):              0.940\n",
      "Method:                 Least Squares   F-statistic:                              468.1\n",
      "Date:                Fri, 20 Sep 2024   Prob (F-statistic):                    1.93e-19\n",
      "Time:                        16:47:11   Log-Likelihood:                         -287.43\n",
      "No. Observations:                  30   AIC:                                      576.9\n",
      "Df Residuals:                      29   BIC:                                      578.3\n",
      "Df Model:                           1                                                  \n",
      "Covariance Type:            nonrobust                                                  \n",
      "==============================================================================\n",
      "                 coef    std err          t      P>|t|      [0.025      0.975]\n",
      "------------------------------------------------------------------------------\n",
      "x1          2269.9134    104.919     21.635      0.000    2055.330    2484.497\n",
      "==============================================================================\n",
      "Omnibus:                        5.870   Durbin-Watson:                   0.600\n",
      "Prob(Omnibus):                  0.053   Jarque-Bera (JB):                1.873\n",
      "Skew:                          -0.000   Prob(JB):                        0.392\n",
      "Kurtosis:                       1.776   Cond. No.                         1.00\n",
      "==============================================================================\n",
      "\n",
      "Notes:\n",
      "[1] R² is computed without centering (uncentered) since the model does not contain a constant.\n",
      "[2] Standard Errors assume that the covariance matrix of the errors is correctly specified.\n"
     ]
    }
   ],
   "execution_count": 31
  },
  {
   "metadata": {
    "ExecuteTime": {
     "end_time": "2024-09-20T13:47:11.334131Z",
     "start_time": "2024-09-20T13:47:11.314254Z"
    }
   },
   "cell_type": "code",
   "source": [
    "# Polynomial Regression\n",
    "def polynomial_regression(X, Y, degree=4):\n",
    "    poly_reg = PolynomialFeatures(degree=degree)\n",
    "    X_poly = poly_reg.fit_transform(X)\n",
    "    lin_reg2 = LinearRegression()\n",
    "    lin_reg2.fit(X_poly, Y)\n",
    "    print(f'Polynomial (degree {degree}) R2 değeri:', r2_score(Y, lin_reg2.predict(X_poly)))\n",
    "    return lin_reg2, poly_reg\n",
    "poly_model, poly_transformer = polynomial_regression(X, Y, degree=4)"
   ],
   "id": "491f87b12b308084",
   "outputs": [
    {
     "name": "stdout",
     "output_type": "stream",
     "text": [
      "Polynomial (degree 4) R2 değeri: 0.8174873280442542\n"
     ]
    }
   ],
   "execution_count": 32
  },
  {
   "metadata": {
    "ExecuteTime": {
     "end_time": "2024-09-20T13:47:11.378171Z",
     "start_time": "2024-09-20T13:47:11.356469Z"
    }
   },
   "cell_type": "code",
   "source": [
    "model2 = sm.OLS(poly_model.predict(poly_transformer.fit_transform(X)), X)\n",
    "print(model2.fit().summary())"
   ],
   "id": "d8798080275995d0",
   "outputs": [
    {
     "name": "stdout",
     "output_type": "stream",
     "text": [
      "                                 OLS Regression Results                                \n",
      "=======================================================================================\n",
      "Dep. Variable:                      y   R-squared (uncentered):                   0.759\n",
      "Model:                            OLS   Adj. R-squared (uncentered):              0.751\n",
      "Method:                 Least Squares   F-statistic:                              91.39\n",
      "Date:                Fri, 20 Sep 2024   Prob (F-statistic):                    1.82e-10\n",
      "Time:                        16:47:11   Log-Likelihood:                         -311.94\n",
      "No. Observations:                  30   AIC:                                      625.9\n",
      "Df Residuals:                      29   BIC:                                      627.3\n",
      "Df Model:                           1                                                  \n",
      "Covariance Type:            nonrobust                                                  \n",
      "==============================================================================\n",
      "                 coef    std err          t      P>|t|      [0.025      0.975]\n",
      "------------------------------------------------------------------------------\n",
      "x1          2269.9134    237.448      9.560      0.000    1784.278    2755.548\n",
      "==============================================================================\n",
      "Omnibus:                       23.972   Durbin-Watson:                   1.119\n",
      "Prob(Omnibus):                  0.000   Jarque-Bera (JB):               34.342\n",
      "Skew:                           2.067   Prob(JB):                     3.49e-08\n",
      "Kurtosis:                       6.223   Cond. No.                         1.00\n",
      "==============================================================================\n",
      "\n",
      "Notes:\n",
      "[1] R² is computed without centering (uncentered) since the model does not contain a constant.\n",
      "[2] Standard Errors assume that the covariance matrix of the errors is correctly specified.\n"
     ]
    }
   ],
   "execution_count": 33
  },
  {
   "metadata": {
    "ExecuteTime": {
     "end_time": "2024-09-20T13:47:11.426715Z",
     "start_time": "2024-09-20T13:47:11.410114Z"
    }
   },
   "cell_type": "code",
   "source": [
    "# Support Vector Regression (SVR)\n",
    "def svr_regression(X, Y):\n",
    "    sc1 = StandardScaler()\n",
    "    X_scaled = sc1.fit_transform(X)\n",
    "    sc2 = StandardScaler()\n",
    "    Y_scaled = np.ravel(sc2.fit_transform(Y.reshape(-1, 1)))\n",
    "    \n",
    "    svr_reg = SVR(kernel='rbf')\n",
    "    svr_reg.fit(X_scaled, Y_scaled)\n",
    "    \n",
    "    print('SVR R2 değeri:', r2_score(Y_scaled, svr_reg.predict(X_scaled)))\n",
    "    return svr_reg, sc1, sc2\n",
    "# Support Vector Regression (SVR)\n",
    "svr_model, scaler_X, scaler_Y = svr_regression(X, Y)"
   ],
   "id": "cb9498d420f0c8f4",
   "outputs": [
    {
     "name": "stdout",
     "output_type": "stream",
     "text": [
      "SVR R2 değeri: 0.5841869084594333\n"
     ]
    }
   ],
   "execution_count": 34
  },
  {
   "metadata": {
    "ExecuteTime": {
     "end_time": "2024-09-20T13:47:11.658913Z",
     "start_time": "2024-09-20T13:47:11.634302Z"
    }
   },
   "cell_type": "code",
   "source": [
    "# SVR model tahminini ve OLS modelini düzeltme\n",
    "predictions_scaled = svr_model.predict(scaler_X.transform(X))  # Tahmin için orijinal X'i ölçeklendir\n",
    "predictions = scaler_Y.inverse_transform(predictions_scaled.reshape(-1, 1))  # Tahminleri orijinal ölçeğe döndür\n",
    "\n",
    "# Şimdi, OLS modelini tahminlerle oluştur\n",
    "model3 = sm.OLS(predictions, X)  # Bağımsız değişkenler için orijinal X'i kulla\n",
    "print(model3.fit().summary())"
   ],
   "id": "60579877084c8d37",
   "outputs": [
    {
     "name": "stdout",
     "output_type": "stream",
     "text": [
      "                                 OLS Regression Results                                \n",
      "=======================================================================================\n",
      "Dep. Variable:                      y   R-squared (uncentered):                   0.925\n",
      "Model:                            OLS   Adj. R-squared (uncentered):              0.922\n",
      "Method:                 Least Squares   F-statistic:                              356.5\n",
      "Date:                Fri, 20 Sep 2024   Prob (F-statistic):                    7.76e-18\n",
      "Time:                        16:47:11   Log-Likelihood:                         -283.92\n",
      "No. Observations:                  30   AIC:                                      569.8\n",
      "Df Residuals:                      29   BIC:                                      571.2\n",
      "Df Model:                           1                                                  \n",
      "Covariance Type:            nonrobust                                                  \n",
      "==============================================================================\n",
      "                 coef    std err          t      P>|t|      [0.025      0.975]\n",
      "------------------------------------------------------------------------------\n",
      "x1          1762.3275     93.335     18.882      0.000    1571.436    1953.219\n",
      "==============================================================================\n",
      "Omnibus:                        2.841   Durbin-Watson:                   0.484\n",
      "Prob(Omnibus):                  0.242   Jarque-Bera (JB):                2.526\n",
      "Skew:                           0.643   Prob(JB):                        0.283\n",
      "Kurtosis:                       2.394   Cond. No.                         1.00\n",
      "==============================================================================\n",
      "\n",
      "Notes:\n",
      "[1] R² is computed without centering (uncentered) since the model does not contain a constant.\n",
      "[2] Standard Errors assume that the covariance matrix of the errors is correctly specified.\n"
     ]
    }
   ],
   "execution_count": 35
  },
  {
   "metadata": {
    "ExecuteTime": {
     "end_time": "2024-09-20T13:47:11.860878Z",
     "start_time": "2024-09-20T13:47:11.795611Z"
    }
   },
   "cell_type": "code",
   "source": [
    "# Decision Tree Regression\n",
    "def decision_tree_regression(X, Y):\n",
    "    dt_reg = DecisionTreeRegressor(random_state=0)\n",
    "    dt_reg.fit(X, Y)\n",
    "    print('Decision Tree R2 değeri:', r2_score(Y, dt_reg.predict(X)))\n",
    "    return dt_reg\n",
    "# Decision Tree Regression\n",
    "dt_model = decision_tree_regression(X, Y)"
   ],
   "id": "aad08e5526e1b56a",
   "outputs": [
    {
     "name": "stdout",
     "output_type": "stream",
     "text": [
      "Decision Tree R2 değeri: 0.8343186200100907\n"
     ]
    }
   ],
   "execution_count": 36
  },
  {
   "metadata": {
    "ExecuteTime": {
     "end_time": "2024-09-20T13:48:04.952503Z",
     "start_time": "2024-09-20T13:48:04.932493Z"
    }
   },
   "cell_type": "code",
   "source": [
    "model4 = sm.OLS(dt_model.predict(X), X)\n",
    "print(model4.fit().summary())"
   ],
   "id": "341cc3e2dbd7a3cf",
   "outputs": [
    {
     "name": "stdout",
     "output_type": "stream",
     "text": [
      "                                 OLS Regression Results                                \n",
      "=======================================================================================\n",
      "Dep. Variable:                      y   R-squared (uncentered):                   0.751\n",
      "Model:                            OLS   Adj. R-squared (uncentered):              0.742\n",
      "Method:                 Least Squares   F-statistic:                              87.29\n",
      "Date:                Fri, 20 Sep 2024   Prob (F-statistic):                    3.01e-10\n",
      "Time:                        16:48:04   Log-Likelihood:                         -312.62\n",
      "No. Observations:                  30   AIC:                                      627.2\n",
      "Df Residuals:                      29   BIC:                                      628.6\n",
      "Df Model:                           1                                                  \n",
      "Covariance Type:            nonrobust                                                  \n",
      "==============================================================================\n",
      "                 coef    std err          t      P>|t|      [0.025      0.975]\n",
      "------------------------------------------------------------------------------\n",
      "x1          2269.9134    242.950      9.343      0.000    1773.025    2766.802\n",
      "==============================================================================\n",
      "Omnibus:                       27.769   Durbin-Watson:                   1.364\n",
      "Prob(Omnibus):                  0.000   Jarque-Bera (JB):               45.942\n",
      "Skew:                           2.292   Prob(JB):                     1.06e-10\n",
      "Kurtosis:                       6.968   Cond. No.                         1.00\n",
      "==============================================================================\n",
      "\n",
      "Notes:\n",
      "[1] R² is computed without centering (uncentered) since the model does not contain a constant.\n",
      "[2] Standard Errors assume that the covariance matrix of the errors is correctly specified.\n"
     ]
    }
   ],
   "execution_count": 40
  },
  {
   "metadata": {
    "ExecuteTime": {
     "end_time": "2024-09-20T13:48:06.848874Z",
     "start_time": "2024-09-20T13:48:06.818928Z"
    }
   },
   "cell_type": "code",
   "source": [
    "# Random Forest Regression\n",
    "def random_forest_regression(X, Y, n_estimators=10):\n",
    "    rf_reg = RandomForestRegressor(n_estimators=n_estimators, random_state=0)\n",
    "    rf_reg.fit(X, Y.ravel())\n",
    "\n",
    "    print('Random Forest R2 değeri:', r2_score(Y, rf_reg.predict(X)))\n",
    "    return rf_reg\n",
    "# Random Forest Regression\n",
    "rf_model = random_forest_regression(X, Y)"
   ],
   "id": "124a0ca9bec47f",
   "outputs": [
    {
     "name": "stdout",
     "output_type": "stream",
     "text": [
      "Random Forest R2 değeri: 0.8284081476481634\n"
     ]
    }
   ],
   "execution_count": 41
  },
  {
   "metadata": {
    "ExecuteTime": {
     "end_time": "2024-09-20T13:48:16.208047Z",
     "start_time": "2024-09-20T13:48:16.193498Z"
    }
   },
   "cell_type": "code",
   "source": [
    "model5 = sm.OLS(rf_model.predict(X),X)\n",
    "print(model5.fit().summary())"
   ],
   "id": "3531c722469a8eaa",
   "outputs": [
    {
     "name": "stdout",
     "output_type": "stream",
     "text": [
      "                                 OLS Regression Results                                \n",
      "=======================================================================================\n",
      "Dep. Variable:                      y   R-squared (uncentered):                   0.719\n",
      "Model:                            OLS   Adj. R-squared (uncentered):              0.709\n",
      "Method:                 Least Squares   F-statistic:                              74.13\n",
      "Date:                Fri, 20 Sep 2024   Prob (F-statistic):                    1.75e-09\n",
      "Time:                        16:48:16   Log-Likelihood:                         -315.35\n",
      "No. Observations:                  30   AIC:                                      632.7\n",
      "Df Residuals:                      29   BIC:                                      634.1\n",
      "Df Model:                           1                                                  \n",
      "Covariance Type:            nonrobust                                                  \n",
      "==============================================================================\n",
      "                 coef    std err          t      P>|t|      [0.025      0.975]\n",
      "------------------------------------------------------------------------------\n",
      "x1          2290.6820    266.050      8.610      0.000    1746.548    2834.816\n",
      "==============================================================================\n",
      "Omnibus:                       28.961   Durbin-Watson:                   1.503\n",
      "Prob(Omnibus):                  0.000   Jarque-Bera (JB):               49.982\n",
      "Skew:                           2.369   Prob(JB):                     1.40e-11\n",
      "Kurtosis:                       7.189   Cond. No.                         1.00\n",
      "==============================================================================\n",
      "\n",
      "Notes:\n",
      "[1] R² is computed without centering (uncentered) since the model does not contain a constant.\n",
      "[2] Standard Errors assume that the covariance matrix of the errors is correctly specified.\n"
     ]
    }
   ],
   "execution_count": 42
  }
 ],
 "metadata": {
  "kernelspec": {
   "display_name": "Python 3",
   "language": "python",
   "name": "python3"
  },
  "language_info": {
   "codemirror_mode": {
    "name": "ipython",
    "version": 2
   },
   "file_extension": ".py",
   "mimetype": "text/x-python",
   "name": "python",
   "nbconvert_exporter": "python",
   "pygments_lexer": "ipython2",
   "version": "2.7.6"
  }
 },
 "nbformat": 4,
 "nbformat_minor": 5
}
